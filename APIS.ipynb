{
 "cells": [
  {
   "cell_type": "markdown",
   "id": "c08425a5",
   "metadata": {},
   "source": [
    "### Extracción de datos de la API oficial web \"Spotify Web API\"  y de la API oficial de Last.fm \" Last.fm API \""
   ]
  },
  {
   "cell_type": "markdown",
   "id": "6e8516ec",
   "metadata": {},
   "source": [
    "#### Instalación de librerías"
   ]
  },
  {
   "cell_type": "code",
   "execution_count": 1,
   "id": "80302f1b",
   "metadata": {},
   "outputs": [
    {
     "name": "stdout",
     "output_type": "stream",
     "text": [
      "c:\\Users\\apdue\\anaconda3\\python.exe\n"
     ]
    }
   ],
   "source": [
    "import sys\n",
    "print(sys.executable)"
   ]
  },
  {
   "cell_type": "code",
   "execution_count": 2,
   "id": "2532ff4f",
   "metadata": {},
   "outputs": [
    {
     "name": "stdout",
     "output_type": "stream",
     "text": [
      "Requirement already satisfied: spotipy in c:\\users\\apdue\\anaconda3\\lib\\site-packages (2.25.1)\n",
      "Requirement already satisfied: redis>=3.5.3 in c:\\users\\apdue\\anaconda3\\lib\\site-packages (from spotipy) (6.4.0)\n",
      "Requirement already satisfied: requests>=2.25.0 in c:\\users\\apdue\\anaconda3\\lib\\site-packages (from spotipy) (2.32.3)\n",
      "Requirement already satisfied: urllib3>=1.26.0 in c:\\users\\apdue\\anaconda3\\lib\\site-packages (from spotipy) (2.3.0)\n",
      "Requirement already satisfied: charset-normalizer<4,>=2 in c:\\users\\apdue\\anaconda3\\lib\\site-packages (from requests>=2.25.0->spotipy) (3.3.2)\n",
      "Requirement already satisfied: idna<4,>=2.5 in c:\\users\\apdue\\anaconda3\\lib\\site-packages (from requests>=2.25.0->spotipy) (3.7)\n",
      "Requirement already satisfied: certifi>=2017.4.17 in c:\\users\\apdue\\anaconda3\\lib\\site-packages (from requests>=2.25.0->spotipy) (2025.7.14)\n"
     ]
    }
   ],
   "source": [
    "import sys\n",
    "!{sys.executable} -m pip install spotipy"
   ]
  },
  {
   "cell_type": "code",
   "execution_count": 3,
   "id": "d507d1eb",
   "metadata": {},
   "outputs": [
    {
     "name": "stdout",
     "output_type": "stream",
     "text": [
      "Requirement already satisfied: mysql-connector-python in c:\\users\\apdue\\anaconda3\\lib\\site-packages (9.4.0)\n",
      "Note: you may need to restart the kernel to use updated packages.\n"
     ]
    }
   ],
   "source": [
    "pip install mysql-connector-python"
   ]
  },
  {
   "cell_type": "code",
   "execution_count": 4,
   "id": "7986298d",
   "metadata": {},
   "outputs": [
    {
     "name": "stdout",
     "output_type": "stream",
     "text": [
      "Requirement already satisfied: mysql-connector-python in c:\\users\\apdue\\anaconda3\\lib\\site-packages (9.4.0)\n"
     ]
    }
   ],
   "source": [
    "import sys\n",
    "!{sys.executable} -m pip install mysql-connector-python"
   ]
  },
  {
   "cell_type": "markdown",
   "id": "e97b2202",
   "metadata": {},
   "source": [
    "#### Extracción de datos de la API oficial web \"Spotify Web API\" "
   ]
  },
  {
   "cell_type": "code",
   "execution_count": 5,
   "id": "cd786eda",
   "metadata": {},
   "outputs": [
    {
     "name": "stdout",
     "output_type": "stream",
     "text": [
      "Buscando canciones para el género pop...\n",
      "Se obtuvieron 500 canciones para pop\n",
      "Buscando canciones para el género rock...\n",
      "Se obtuvieron 500 canciones para rock\n",
      "Buscando canciones para el género jazz...\n",
      "Se obtuvieron 500 canciones para jazz\n",
      "Buscando canciones para el género reggaeton...\n",
      "Se obtuvieron 113 canciones para reggaeton\n",
      "Total de canciones obtenidas: 1613\n",
      "Base de datos 'music_stream_proyecto' creada o ya existente.\n",
      "Se insertaron 1613 canciones en la tabla 'canciones'.\n"
     ]
    }
   ],
   "source": [
    "# Importamos Librerías\n",
    "import spotipy\n",
    "from spotipy.oauth2 import SpotifyClientCredentials\n",
    "import pandas as pd\n",
    "import mysql.connector\n",
    "from sqlalchemy import create_engine\n",
    "import time\n",
    "\n",
    "# SPOTIFY \n",
    "CLIENT_ID = \"ce410d235c6444c9928df476e4270803\"\n",
    "CLIENT_SECRET = \"af63ec6e05084a4d9edc175a055bd4f2\"\n",
    "\n",
    "auth_manager = SpotifyClientCredentials(client_id=CLIENT_ID, client_secret=CLIENT_SECRET)\n",
    "sp = spotipy.Spotify(auth_manager=auth_manager)\n",
    "\n",
    "# PARÁMETROS \n",
    "generos = ['pop', 'rock', 'jazz', 'reggaeton']\n",
    "anio_inicio, anio_final = 2019, 2024\n",
    "max_canciones = 500\n",
    "todos_los_resultados = []\n",
    "\n",
    "# RECOLECCIÓN DE CANCIONES \n",
    "for genero in generos:\n",
    "    print(f\"Buscando canciones para el género {genero}...\")\n",
    "    canciones_obtenidas = 0\n",
    "    offset = 0\n",
    "    limite = 50\n",
    "\n",
    "    while canciones_obtenidas < max_canciones:\n",
    "        query = f'genre:\"{genero}\" year:{anio_inicio}-{anio_final}'\n",
    "        respuesta = sp.search(q=query, type='track', limit=limite, offset=offset, market=\"ES\")\n",
    "        tracks = respuesta.get('tracks', {}).get('items', [])\n",
    "\n",
    "        if not tracks:\n",
    "            break\n",
    "\n",
    "        for track in tracks:\n",
    "            todos_los_resultados.append({\n",
    "                'name_track': track['name'],\n",
    "                'name_artist': track['artists'][0]['name'],\n",
    "                'genre': genero,\n",
    "                'type': track['type'],\n",
    "                'year': track['album']['release_date'][:4]\n",
    "            })\n",
    "\n",
    "        canciones_obtenidas += len(tracks)\n",
    "        offset += limite\n",
    "        time.sleep(0.2)\n",
    "\n",
    "    print(f\"Se obtuvieron {canciones_obtenidas} canciones para {genero}\")\n",
    "\n",
    "print(f\"Total de canciones obtenidas: {len(todos_los_resultados)}\")\n",
    "\n",
    "# CONVERTIR A DATAFRAME \n",
    "df_spotipy = pd.DataFrame(todos_los_resultados)\n",
    "\n",
    "#  MYSQL \n",
    "user = 'root'\n",
    "password = 'AlumnaAdalab'\n",
    "host = '127.0.0.1'\n",
    "db_name = 'music_stream_proyecto'\n",
    "\n",
    "# Crear la base de datos si no existe\n",
    "try:\n",
    "    cnx = mysql.connector.connect(user=user, password=password, host=host)\n",
    "    cursor = cnx.cursor()\n",
    "    cursor.execute(f\"CREATE DATABASE IF NOT EXISTS {db_name}\")\n",
    "    print(f\"Base de datos '{db_name}' creada o ya existente.\")\n",
    "    cursor.close()\n",
    "    cnx.close()\n",
    "except mysql.connector.Error as err:\n",
    "    print(f\"Ocurrió un error creando la base de datos: {err}\")\n",
    "\n",
    "# Conectar con SQLAlchemy para pasar DataFrame directamente\n",
    "engine = create_engine(f'mysql+mysqlconnector://{user}:{password}@{host}/{db_name}')\n",
    "\n",
    "# Guardar DataFrame en MySQL\n",
    "try:\n",
    "    df_spotipy.to_sql('canciones', engine, if_exists='replace', index=False)\n",
    "    print(f\"Se insertaron {len(df_spotipy)} canciones en la tabla 'canciones'.\")\n",
    "except Exception as e:\n",
    "    print(f\"Ocurrió un error al guardar en SQL: {e}\")"
   ]
  },
  {
   "cell_type": "markdown",
   "id": "74e00d67",
   "metadata": {},
   "source": [
    "API LAST.FM "
   ]
  },
  {
   "cell_type": "code",
   "execution_count": null,
   "id": "a0264dc1",
   "metadata": {},
   "outputs": [],
   "source": [
    "import requests\n",
    "import pandas as pd\n",
    "import re\n",
    "import time\n",
    "\n",
    "# ---- Lista de artistas únicos desde Spotify ----\n",
    "lista_artistas = df_spotipy['name_artist'].dropna().unique().tolist()\n",
    "\n",
    "# ---- Función para limpiar nombres de artistas ----\n",
    "def limpiar_nombre_artista(nombre):\n",
    "    nombre = nombre.lower()\n",
    "    nombre = re.sub(r\"\\(.*?\\)|feat\\. .*|ft\\. .*\", \"\", nombre)  # quitar feat, ft, paréntesis\n",
    "    nombre = re.sub(r\"[^a-z0-9\\s]\", \"\", nombre)  # quitar caracteres especiales\n",
    "    nombre = nombre.strip()\n",
    "    return nombre\n",
    "\n",
    "# Lista limpia de artistas\n",
    "lista_artistas_limpia = [limpiar_nombre_artista(a) for a in lista_artistas]\n",
    "\n",
    "# ---- Configuración Last.fm ----\n",
    "API_KEY = \"4c376bffe433789718d87658d629efca\"\n",
    "BASE_URL = \"http://ws.audioscrobbler.com/2.0/\"\n",
    "\n",
    "def obtener_datos_lastfm_artistas(lista_artistas, max_tracks=5, max_similares=5, sleep_time=0.2):\n",
    "    registro_artistas = []\n",
    "\n",
    "    for artista_nombre in lista_artistas:\n",
    "        try:\n",
    "            # --- Información general del artista ---\n",
    "            resp_info = requests.get(BASE_URL, params={\n",
    "                \"method\": \"artist.getinfo\",\n",
    "                \"artist\": artista_nombre,\n",
    "                \"api_key\": API_KEY,\n",
    "                \"autocorrect\": 1,\n",
    "                \"format\": \"json\"\n",
    "            }, timeout=10)\n",
    "            resp_info.raise_for_status()\n",
    "            datos = resp_info.json().get(\"artist\")\n",
    "            if not datos:\n",
    "                continue\n",
    "\n",
    "            stats = datos.get(\"stats\", {})\n",
    "            bio = datos.get(\"bio\", {}).get(\"summary\", \"\")\n",
    "            url = datos.get(\"url\", \"\")\n",
    "            tags_list = datos.get(\"tags\", {}).get(\"tag\", [])\n",
    "            if isinstance(tags_list, dict):\n",
    "                tags_list = [tags_list]\n",
    "            tags = [t.get(\"name\",\"\") for t in tags_list]\n",
    "\n",
    "            # --- Top tracks ---\n",
    "            top_tracks_info = []\n",
    "            resp_tracks = requests.get(BASE_URL, params={\n",
    "                \"method\": \"artist.gettoptracks\",\n",
    "                \"artist\": artista_nombre,\n",
    "                \"api_key\": API_KEY,\n",
    "                \"autocorrect\": 1,\n",
    "                \"format\": \"json\",\n",
    "                \"limit\": max_tracks\n",
    "            }, timeout=10)\n",
    "            resp_tracks.raise_for_status()\n",
    "            tracks_json = resp_tracks.json().get(\"toptracks\", {}).get(\"track\", [])\n",
    "            if isinstance(tracks_json, dict):\n",
    "                tracks_json = [tracks_json]\n",
    "\n",
    "            for track in tracks_json:\n",
    "                track_name = track.get(\"name\",\"\")\n",
    "                track_info = {\"name\": track_name}\n",
    "                try:\n",
    "                    resp_track = requests.get(BASE_URL, params={\n",
    "                        \"method\": \"track.getinfo\",\n",
    "                        \"artist\": artista_nombre,\n",
    "                        \"track\": track_name,\n",
    "                        \"api_key\": API_KEY,\n",
    "                        \"autocorrect\": 1,\n",
    "                        \"format\": \"json\"\n",
    "                    }, timeout=10)\n",
    "                    resp_track.raise_for_status()\n",
    "                    track_data = resp_track.json().get(\"track\", {})\n",
    "                    tags_track = track_data.get(\"toptags\", {}).get(\"tag\", [])\n",
    "                    if isinstance(tags_track, dict):\n",
    "                        tags_track = [tags_track]\n",
    "                    tags_cancion = [tg.get(\"name\",\"\") for tg in tags_track]\n",
    "                    track_info.update({\n",
    "                        \"album\": track_data.get(\"album\", {}).get(\"title\",\"\"),\n",
    "                        \"duration_s\": int(track_data.get(\"duration\") or 0)//1000,\n",
    "                        \"tags\": tags_cancion,\n",
    "                        \"wiki\": track_data.get(\"wiki\", {}).get(\"summary\",\"\")\n",
    "                    })\n",
    "                except:\n",
    "                    pass\n",
    "                top_tracks_info.append(track_info)\n",
    "\n",
    "            # --- Artistas similares ---\n",
    "            similares = []\n",
    "            resp_sim = requests.get(BASE_URL, params={\n",
    "                \"method\": \"artist.getsimilar\",\n",
    "                \"artist\": artista_nombre,\n",
    "                \"api_key\": API_KEY,\n",
    "                \"autocorrect\": 1,\n",
    "                \"format\": \"json\",\n",
    "                \"limit\": max_similares\n",
    "            }, timeout=10)\n",
    "            resp_sim.raise_for_status()\n",
    "            similar_json = resp_sim.json().get(\"similarartists\", {}).get(\"artist\", [])\n",
    "            if isinstance(similar_json, dict):\n",
    "                similar_json = [similar_json]\n",
    "            similares = [s.get(\"name\",\"\") for s in similar_json]\n",
    "\n",
    "            # --- Guardar info del artista ---\n",
    "            registro_artistas.append({\n",
    "                \"Artist\": artista_nombre,\n",
    "                \"Listeners\": int(stats.get(\"listeners\",0) or 0),\n",
    "                \"Playcount\": int(stats.get(\"playcount\",0) or 0),\n",
    "                \"URL\": url,\n",
    "                \"Biography\": bio,\n",
    "                \"Tags\": tags,\n",
    "                \"TopTracks\": top_tracks_info,\n",
    "                \"SimilarArtists\": similares\n",
    "            })\n",
    "\n",
    "            time.sleep(sleep_time)  # respetar rate limit\n",
    "\n",
    "        except Exception as e:\n",
    "            print(f\"Error con artista {artista_nombre}: {e}\")\n",
    "            continue\n",
    "\n",
    "    return pd.DataFrame(registro_artistas)"
   ]
  },
  {
   "cell_type": "markdown",
   "id": "224eed14",
   "metadata": {},
   "source": [
    "Hemos tenido que utilizar concurrencia de hilos para poder ejecutar el código, pues se hacía muy lento"
   ]
  },
  {
   "cell_type": "code",
   "execution_count": null,
   "id": "15ed5545",
   "metadata": {},
   "outputs": [
    {
     "name": "stdout",
     "output_type": "stream",
     "text": [
      "        Artist  Listeners  Playcount                                    URL  \\\n",
      "0   elton john    4965352  152014971   https://www.last.fm/music/Elton+John   \n",
      "1     dua lipa    3038687  293563049     https://www.last.fm/music/Dua+Lipa   \n",
      "2  teddy swims     995058   16831289  https://www.last.fm/music/Teddy+Swims   \n",
      "3       loreen     750933   19243499       https://www.last.fm/music/Loreen   \n",
      "4          djo    1852063   62255211          https://www.last.fm/music/Djo   \n",
      "\n",
      "                                           Biography  \\\n",
      "0  Sir Elton Hercules John (born Reginald Kenneth...   \n",
      "1  Dua Lipa (born 22 August 1995) is an English, ...   \n",
      "2  Jaten Dimsdale, known by his moniker, Teddy Sw...   \n",
      "3  Loreen (born Lorine Zineb Nora Talhaoui on Oct...   \n",
      "4  Djo is the musical moniker of American actor/m...   \n",
      "\n",
      "                                                Tags  \\\n",
      "0  [pop, classic rock, singer-songwriter, rock, p...   \n",
      "1  [pop, synthpop, electropop, british, female vo...   \n",
      "2      [soul, singer-songwriter, pop, rnb, Neo-Soul]   \n",
      "3  [pop, swedish, female vocalists, Eurovision, d...   \n",
      "4  [psychedelic pop, indie pop, indie, indie rock...   \n",
      "\n",
      "                                           TopTracks  \\\n",
      "0  [{'name': 'I'm Still Standing', 'album': 'The ...   \n",
      "1  [{'name': 'Don't Start Now', 'album': 'Housewo...   \n",
      "2  [{'name': 'Lose Control', 'album': 'I've Tried...   \n",
      "3  [{'name': 'Tattoo', 'album': 'Tattoo', 'durati...   \n",
      "4  [{'name': 'End of Beginning', 'album': 'DECIDE...   \n",
      "\n",
      "                                      SimilarArtists  \n",
      "0  [Billy Joel, Rod Stewart, Paul McCartney, Quee...  \n",
      "1  [Ava Max, Silk City, Katy Perry, Zara Larsson,...  \n",
      "2  [Victor Ray, Rag'n'Bone Man, GoldFord, Steven ...  \n",
      "3  [Dotter, Kaleen, Cornelia Jakobs, Maria Sur, A...  \n",
      "4  [Wallows, Dayglow, Peach Pit, Declan McKenna, ...  \n",
      "(187, 8)\n"
     ]
    }
   ],
   "source": [
    "from concurrent.futures import ThreadPoolExecutor, as_completed\n",
    "\n",
    "# Función que procesa un solo artista (envoltorio)\n",
    "def obtener_datos_lastfm_artista(artista):\n",
    "    return obtener_datos_lastfm_artistas([artista], max_tracks=5, max_similares=5, sleep_time=0)\n",
    "\n",
    "# ---- Ejecutar en paralelo ----\n",
    "resultados = []\n",
    "with ThreadPoolExecutor(max_workers=10) as executor:  # prueba 10-15 para más velocidad\n",
    "    futures = {executor.submit(obtener_datos_lastfm_artista, artista): artista for artista in lista_artistas_limpia}\n",
    "    \n",
    "    for future in as_completed(futures):\n",
    "        artista = futures[future]\n",
    "        try:\n",
    "            df_tmp = future.result()\n",
    "            if not df_tmp.empty:\n",
    "                resultados.append(df_tmp)\n",
    "        except Exception as e:\n",
    "            print(f\"Error procesando artista {artista}: {e}\")\n",
    "\n",
    "# ---- Unir todos los resultados ----\n",
    "df_lastfm = pd.concat(resultados, ignore_index=True) if resultados else pd.DataFrame()\n"
   ]
  },
  {
   "cell_type": "code",
   "execution_count": 8,
   "id": "68dd3af1",
   "metadata": {},
   "outputs": [
    {
     "name": "stdout",
     "output_type": "stream",
     "text": [
      "Base de datos 'music_stream_proyecto' creada o ya existente.\n",
      "Datos guardados correctamente en la tabla 'artistas'.\n"
     ]
    }
   ],
   "source": [
    "# Importamos las librerías necesarias para la conexión Python-Sql\n",
    "import json\n",
    "from sqlalchemy import create_engine, VARCHAR, BIGINT, TEXT\n",
    "import mysql.connector\n",
    "\n",
    "# Parámetros de conexión\n",
    "user = 'root'\n",
    "password = 'AlumnaAdalab'\n",
    "host = '127.0.0.1'\n",
    "db_name = 'music_stream_proyecto'\n",
    "\n",
    "# ---- Crear la base de datos si no existe ----\n",
    "try:\n",
    "    cnx = mysql.connector.connect(user=user, password=password, host=host)\n",
    "    cursor = cnx.cursor()\n",
    "    cursor.execute(f\"CREATE DATABASE IF NOT EXISTS {db_name}\")\n",
    "    print(f\"Base de datos '{db_name}' creada o ya existente.\")\n",
    "    cursor.close()\n",
    "    cnx.close()\n",
    "except mysql.connector.Error as err:\n",
    "    print(f\"Ocurrió un error creando la base de datos: {err}\")\n",
    "\n",
    "# ---- Convertir listas/diccionarios a JSON strings ----\n",
    "df_lastfm_copy = df_lastfm.copy()\n",
    "for col in ['Tags', 'TopTracks', 'SimilarArtists']:\n",
    "    df_lastfm_copy[col] = df_lastfm_copy[col].apply(lambda x: json.dumps(x, ensure_ascii=False))\n",
    "\n",
    "# ---- Conexión a MySQL usando SQLAlchemy ----\n",
    "engine = create_engine(f'mysql+mysqlconnector://{user}:{password}@{host}/{db_name}')\n",
    "\n",
    "# ---- Guardar DataFrame en SQL ----\n",
    "try:\n",
    "    df_lastfm_copy.to_sql(\n",
    "        'artistas',\n",
    "        engine,\n",
    "        if_exists='replace',\n",
    "        index=False,\n",
    "        dtype={\n",
    "            'Artist': VARCHAR(100),\n",
    "            'Listeners': BIGINT,\n",
    "            'Playcount': BIGINT,\n",
    "            'URL': VARCHAR(255),\n",
    "            'Biography': TEXT,\n",
    "            'Tags': TEXT,\n",
    "            'TopTracks': TEXT,\n",
    "            'SimilarArtists': TEXT\n",
    "        }\n",
    "    )\n",
    "    print(\"Datos guardados correctamente en la tabla 'artistas'.\")\n",
    "except Exception as e:\n",
    "    print(f\"Ocurrió un error al guardar en SQL: {e}\")\n"
   ]
  },
  {
   "cell_type": "markdown",
   "id": "97404b7f",
   "metadata": {},
   "source": [
    "Guardamos los datos en csv"
   ]
  },
  {
   "cell_type": "code",
   "execution_count": null,
   "id": "76ae11b5",
   "metadata": {},
   "outputs": [
    {
     "name": "stdout",
     "output_type": "stream",
     "text": [
      "Se guardaron 1613 canciones en 'canciones_spotify.csv'.\n",
      "Se guardaron 187 artistas en 'artistas_lastfm.csv'.\n"
     ]
    }
   ],
   "source": [
    "\n",
    "# Guardar DataFrame de canciones de Spotify\n",
    "df_spotipy.to_csv('canciones_spotify.csv', index=False, encoding='utf-8-sig')\n",
    "print(f\"Se guardaron {len(df_spotipy)} canciones en 'canciones_spotify.csv'.\")\n",
    "\n",
    "# Guardar DataFrame de artistas de Last.fm\n",
    "df_lastfm_copy.to_csv('artistas_lastfm.csv', index=False, encoding='utf-8-sig')\n",
    "print(f\"Se guardaron {len(df_lastfm_copy)} artistas en 'artistas_lastfm.csv'.\")"
   ]
  },
  {
   "cell_type": "markdown",
   "id": "e60586c0",
   "metadata": {},
   "source": [
    "COMPARACIÓN SCRIPTS DE PYTHON  Y DOCUMENTACIÓN APIS"
   ]
  },
  {
   "cell_type": "markdown",
   "id": "030a14ab",
   "metadata": {},
   "source": [
    "| Aspecto implementado | Ajuste con la documentación oficial de SPOTIPY |\n",
    "|-----------------------|--------------------------------------|\n",
    "| Autenticación mediante credenciales de cliente. | Se ajusta al flujo de *Client Credentials* descrito en la documentación. |\n",
    "| Creación de una instancia del cliente de Spotify con un administrador de autenticación. | Coincide con el procedimiento oficial recomendado (`Spotify(auth_manager=...)`). |\n",
    "| Uso de consultas avanzadas con filtros de género y rango de años. | Se ajusta a la sintaxis de búsqueda avanzada soportada por la API de Spotify, que permite combinar múltiples criterios. |\n",
    "| Ejecución de búsquedas de pistas especificando tipo de recurso, límite, offset y mercado. | Coincide con los parámetros documentados para el método `search`. |\n",
    "| Extracción de información relevante de cada pista (nombre, artista y año de lanzamiento). | Coincide con la estructura de datos proporcionada por la API, que incluye estos campos en los resultados. |\n",
    "| Inclusión de un retardo entre peticiones para evitar sobrecargar la API. | No aparece en la documentación oficial, pero es considerado una buena práctica para respetar las políticas de uso y evitar bloqueos por exceso de solicitudes. |\n",
    "| Conversión de los resultados a un DataFrame para su análisis. | No forma parte de la documentación de Spotipy, ya que la librería devuelve datos en formato JSON, pero se utiliza para análisis posteriores. |"
   ]
  },
  {
   "cell_type": "markdown",
   "id": "93f82614",
   "metadata": {},
   "source": [
    "| Aspecto implementado | Ajuste con la documentación oficial de Last.fm |\n",
    "|-----------------------|-----------------------------------------------|\n",
    "| Uso de `artist.getinfo` para obtener información de un artista. | Coincide con la documentación; `artist.getinfo` retorna detalles del artista, estadísticas, etiquetas y enlaces. |\n",
    "| Inclusión de parámetros `api_key`, `autocorrect=1` y `format=json`. | Coincide  con lo documentado: `api_key` obligatorio, `autocorrect` opcional y `format=json` para obtener la respuesta en JSON. |\n",
    "| Extracción de estadísticas (`listeners`, `playcount`), biografía (`bio.summary`), URL, y etiquetas (`tags.tag`). | Coincide con la estructura de datos devuelta según la doc de `artist.getinfo`. |\n",
    "| Manejo de top tracks y artistas similares (`toptracks.track`, `similar.artist`). | Coincide con la documentación; los objetos pueden ser listas o diccionarios si hay un solo elemento. |\n",
    "| Límite de resultados (`max_tracks`, `max_similares`). | No es parte de la API oficial; es un control implementado para limitar la cantidad de datos procesados. |\n",
    "| Manejo de errores con `try/except` y `resp.raise_for_status()`. | No aparece en la documentación, pero se implementa para evitar fallos por problemas de red o respuestas inválidas. |\n",
    "| Ejecución paralela de solicitudes con `ThreadPoolExecutor` y `as_completed`. | No está documentado en la API oficial; no obstante, se ha utilizado para optimizar rendimiento al consultar varios artistas. |\n",
    "| Conversión final de los resultados a un `DataFrame` de pandas. | La documentación de Last.fm devuelve JSON; pero transformamos a DataFrame para posterior análisis de datos. |"
   ]
  },
  {
   "cell_type": "markdown",
   "id": "08791105",
   "metadata": {},
   "source": [
    "COMPARACIÓN EN FORMA DE EXTRACCIÓN DE DATOS PARA CADA API"
   ]
  },
  {
   "cell_type": "markdown",
   "id": "54cf9363",
   "metadata": {},
   "source": [
    "| Aspecto | Spotipy (Spotify) | Last.fm |\n",
    "|---------|-----------------|---------|\n",
    "| Autenticación | Se usa `SpotifyClientCredentials` con `client_id` y `client_secret`. Coincide con la documentación oficial. | Se usa `api_key` en cada solicitud, como indica la documentación. |\n",
    "| Instanciación del cliente | Se crea objeto `Spotify(auth_manager=...)`. Coincide con la doc. | No aplica, se realizan llamadas directas a la URL de la API con `requests`. |\n",
    "| Método de consulta principal | `sp.search` con filtros avanzados (`genre`, `year`), `type`, `limit`, `offset`, `market`. | `artist.getinfo` con parámetros (`artist`, `autocorrect`, `format`). |\n",
    "| Extracción de datos | Campos como `name`, `artists`, `album.release_date`. | Campos como `listeners`, `playcount`, `bio.summary`, `tags.tag`, `toptracks.track`, `similar.artist`. |\n",
    "| Manejo de paginación | Sí, usando `limit` y `offset` en `sp.search`. Posible mejora: usar `next` de la API. | Parcial: No hay paginación automática en `artist.getinfo`. Se limita manualmente con `max_tracks` y `max_similares`. |\n",
    "| Control de resultados | Controlado con `max_canciones` por género. | Controlado con `max_tracks` y `max_similares` por artista. |\n",
    "| Manejo de errores | Implícito; la librería lanza excepciones (`SSLError`, `ConnectionError`). | Explícito con `try/except` y `resp.raise_for_status()`. |\n",
    "| Optimización / paralelización | No implementada. | Paralelización con `ThreadPoolExecutor` para múltiples artistas. |\n",
    "| Transformación de datos | Conversión a `pandas.DataFrame` para análisis. | Conversión a `pandas.DataFrame` para análisis. |\n",
    "| Buenas prácticas adicionales | `time.sleep` para evitar *rate limiting*. | Manejo de estructuras variables en JSON y límite de resultados para evitar sobrecarga. |"
   ]
  }
 ],
 "metadata": {
  "kernelspec": {
   "display_name": "base",
   "language": "python",
   "name": "python3"
  },
  "language_info": {
   "codemirror_mode": {
    "name": "ipython",
    "version": 3
   },
   "file_extension": ".py",
   "mimetype": "text/x-python",
   "name": "python",
   "nbconvert_exporter": "python",
   "pygments_lexer": "ipython3",
   "version": "3.13.5"
  }
 },
 "nbformat": 4,
 "nbformat_minor": 5
}
